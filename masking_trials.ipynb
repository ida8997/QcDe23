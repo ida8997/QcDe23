{
 "cells": [
  {
   "cell_type": "code",
   "execution_count": 11,
   "metadata": {},
   "outputs": [],
   "source": [
    "import numpy as np\n",
    "import cv2 as cv\n",
    "import napari\n",
    "import os\n",
    "import matplotlib.pyplot as plt"
   ]
  },
  {
   "cell_type": "code",
   "execution_count": 62,
   "metadata": {},
   "outputs": [],
   "source": [
    "# function definitions\n",
    "\n",
    "def visualize_napari(images, labels):\n",
    "    \"\"\" Visualize all images in list using napari\n",
    "    parameters\n",
    "    ----------\n",
    "    imagest: list of numpy images\n",
    "    labels: list of names for each image\n",
    "        \"\"\"\n",
    "    viewer = napari.Viewer()\n",
    "    for i, img in enumerate(images):\n",
    "        viewer.add_image(img, name=labels[i])\n",
    "\n",
    "def clean_stats(labels, stats, centroids):\n",
    "    \"\"\"\n",
    "    Delete connected components that are too small or too large.\n",
    "    \"\"\"\n",
    "    labels_cp = labels.copy()\n",
    "    stats_cp = stats.copy()\n",
    "    centroids_cp = centroids.copy()\n",
    "    indices = []\n",
    "\n",
    "    for i in range(0, stats.shape[0]):\n",
    "        if stats[i, 4] < np.pi*30**2:\n",
    "            indices.append(i)\n",
    "        elif stats[i,2] > 450 or stats[i,3] > 450 or not(0.75 <= stats[i,2]/stats[i,3] <= 1.33):\n",
    "            indices.append(i)\n",
    "        elif np.min(np.where(labels == i)[0]) == 0 or np.min(np.where(labels == i)[1]) == 0 \\\n",
    "            or np.max(np.where(labels == i)[0]) == labels.shape[0]-1 or np.max(np.where(labels == i)[1]) == labels.shape[1]-1:\n",
    "            indices.append(i)\n",
    "    \n",
    "    labels_cp = labels_cp * ~(np.in1d(labels_cp, indices).reshape(labels_cp.shape))\n",
    "    stats_cp = np.delete(stats_cp, indices, axis=0)\n",
    "    centroids_cp = np.delete(centroids_cp, indices, axis=0)\n",
    "    return labels_cp, stats_cp, centroids_cp\n",
    "\n",
    "def add_bounding_boxes(img, stats, labels, centroids):\n",
    "    \"\"\"\n",
    "    Add rectangles around objects\n",
    "    \"\"\"\n",
    "    labels_cp = labels.copy()\n",
    "    stats_cp = stats.copy()\n",
    "    centroids_cp = centroids.copy()\n",
    "    indices = []\n",
    "    img_copy = img.copy()\n",
    "    \n",
    "    for i in range(0, stats.shape[0]):\n",
    "        # discard component if too small indicating noise or holes within components\n",
    "        if stats[i, 4] < np.pi*30**2:\n",
    "            indices.append(i)\n",
    "            continue\n",
    "        # color box red if component is taking up too much space or enclosing rectangle is too elongated\n",
    "        # indicating >=2 cells being attached to each other\n",
    "        # elif stats[i, 4] > np.pi*300**2 or not(0.7 <= stats[i,2] / stats[i,3] <= 1.3):\n",
    "        elif stats[i,2] > 450 or stats[i,3] > 450 or not(0.75 <= stats[i,2]/stats[i,3] <= 1.33):\n",
    "            indices.append(i)\n",
    "            x = stats[i, 0] - 20\n",
    "            y = stats[i, 1] - 20\n",
    "            w = stats[i, 2] + 40\n",
    "            h = stats[i, 3] + 40\n",
    "            cv.rectangle(img_copy, (x, y), (x + w, y + h), (0, 0, 255), 3)\n",
    "        # discard component if at boundary\n",
    "        elif np.min(np.where(labels == i)[0]) == 0 or np.min(np.where(labels == i)[1]) == 0 \\\n",
    "            or np.max(np.where(labels == i)[0]) == labels.shape[0]-1 or np.max(np.where(labels == i)[1]) == labels.shape[1]-1:\n",
    "            indices.append(i)\n",
    "            x = stats[i, 0] - 20\n",
    "            y = stats[i, 1] - 20\n",
    "            w = stats[i, 2] + 40\n",
    "            h = stats[i, 3] + 40\n",
    "            cv.rectangle(img_copy, (x, y), (x + w, y + h), (0, 0, 255), 3)\n",
    "        # else, color box green\n",
    "        else:\n",
    "            x = stats[i, 0] - 20\n",
    "            y = stats[i, 1] - 20\n",
    "            w = stats[i, 2] + 40\n",
    "            h = stats[i, 3] + 40\n",
    "            cv.rectangle(img_copy, (x, y), (x + w, y + h), (0, 255, 0), 3)\n",
    "    \n",
    "    labels_cp = labels_cp * ~(np.in1d(labels_cp, indices).reshape(labels_cp.shape))\n",
    "    stats_cp = np.delete(stats_cp, indices, axis=0)\n",
    "    centroids_cp = np.delete(centroids_cp, indices, axis=0)\n",
    "    return img_copy, labels_cp, stats_cp, centroids_cp\n",
    "\n",
    "\n",
    "def find_enclosing_ellipses(img, labels):\n",
    "    \"\"\"\n",
    "    Find and add enclosing ellipses around objects\n",
    "    ----------\n",
    "    labels: contains only labels of \"valid\" components\n",
    "    \"\"\"\n",
    "    img_copy = img.copy()\n",
    "    d = []\n",
    "    area = []\n",
    "\n",
    "    for i in np.unique(labels)[1:]:\n",
    "        # set of points of object\n",
    "        points = np.where(labels == i)\n",
    "        points = np.transpose(points)\n",
    "\n",
    "        # find minimal bounding rectangle, possibly rotated\n",
    "        (xc, yc), (d1, d2), angle = cv.minAreaRect(points)\n",
    "\n",
    "        # save diameters and area\n",
    "        d.append((min(d1, d2), max(d1, d2)))\n",
    "        area.append(np.pi*(d1/2)*(d2/2))\n",
    "\n",
    "        # add bounding ellipse around objects\n",
    "        ellipse = ((int(yc), int(xc)), (int(d2), int(d1)), -angle)\n",
    "        cv.ellipse(img_copy, ellipse, (255, 255, 0), 3)\n",
    "    return img_copy, np.array(d), np.array(area)\n",
    "\n"
   ]
  },
  {
   "cell_type": "code",
   "execution_count": 60,
   "metadata": {},
   "outputs": [
    {
     "data": {
      "text/plain": [
       "2827.4333882308138"
      ]
     },
     "execution_count": 60,
     "metadata": {},
     "output_type": "execute_result"
    }
   ],
   "source": [
    "np.pi*30**2"
   ]
  },
  {
   "cell_type": "code",
   "execution_count": 114,
   "metadata": {},
   "outputs": [
    {
     "name": "stdout",
     "output_type": "stream",
     "text": [
      "base_model_pictures\\20220130_543_D4001_ch00_nn.tif\n",
      "base_model_pictures\\20220302_EXP592_100ML_DAY4002_ch00_yn.tif\n",
      "base_model_pictures\\20220302_EXP593_50ML_DAY4001_ch00_yn.tif\n",
      "base_model_pictures\\20220329_Exp 639 day 4_ch00_yy.tif\n",
      "base_model_pictures\\20220505_681 day 4002_ch00_yy.tif\n",
      "base_model_pictures\\20220528_702 D4001_ch00_yn.tif\n",
      "base_model_pictures\\20220528_703 D4 001_ch00_yn.tif\n",
      "base_model_pictures\\20220528_704 D4 001_ch00_yn.tif\n",
      "base_model_pictures\\20220528_705 D4 001_ch00_yn.tif\n",
      "base_model_pictures\\20220529_709 D4001_ch00_yy.tif\n",
      "base_model_pictures\\20220604_711 day 4001_ch00_yy.tif\n",
      "base_model_pictures\\20220604_712 day 4001_ch00_yy.tif\n",
      "base_model_pictures\\20220604_713 day 4001_ch00_yy.tif\n",
      "base_model_pictures\\20220611_720 DE001_ch00_yy.tif\n",
      "base_model_pictures\\20220616_725 D4001_ch00_yy.tif\n",
      "base_model_pictures\\20220703_740 day 4001_ch00_yy.tif\n",
      "base_model_pictures\\20220806_776 day 4002_ch00_yy.tif\n",
      "base_model_pictures\\20220918_808 D4001_ch00_yn.tif\n",
      "base_model_pictures\\20220918_809 D4001_ch00_yy.tif\n",
      "base_model_pictures\\20220918_810 D4001_ch00_yy.tif\n",
      "base_model_pictures\\20220918_811 D4001_ch00_yn.tif\n",
      "base_model_pictures\\20220918_812 100ml D4001_ch00_yn.tif\n",
      "base_model_pictures\\Project001_784 D4 001_ch00_yn.tif\n",
      "base_model_pictures\\Project001_785 DAY4001_ch00_yn.tif\n",
      "base_model_pictures\\Project_JB_523D4_220119001_ch00_nn.tif\n"
     ]
    }
   ],
   "source": [
    "# iterate through all filenames in folder 'DE_annotated_pictures'\n",
    "\n",
    "# path to folder containing images\n",
    "path = 'base_model_pictures'\n",
    "\n",
    "# list of all filenames in folder\n",
    "filenames = os.listdir(path)\n",
    "\n",
    "kernel = cv.getStructuringElement(cv.MORPH_ELLIPSE, (4,4))\n",
    "a = []\n",
    "\n",
    "# iterate through all filenames\n",
    "for filename in filenames:\n",
    "    # path to image\n",
    "    file = os.path.join(path, filename)\n",
    "    print(file)\n",
    "\n",
    "    # read image\n",
    "    img = cv.imread(file)\n",
    "\n",
    "    # convert image to grayscale\n",
    "    gray = cv.cvtColor(img, cv.COLOR_BGR2GRAY)\n",
    "    # cv.imwrite('base_model_masking/' + file.split('\\\\')[1].split('.')[0] + '_gray.tif', gray)\n",
    "\n",
    "    # binarize image applying global thresholding\n",
    "    _, thresh = cv.threshold(gray, np.mean(gray) + np.sqrt(np.sqrt(np.std(gray))), 255, cv.THRESH_BINARY_INV)\n",
    "\n",
    "    # erode boundary to detach objects\n",
    "    erosion = cv.erode(thresh, kernel, iterations = 5)\n",
    "    cv.imwrite('base_model_masking/' + file.split('\\\\')[1].split('.')[0] + '_erosion.tif', erosion)\n",
    "\n",
    "    # compute connected components and corresponding stats\n",
    "    num_labels, labels, stats, centroids = cv.connectedComponentsWithStats(erosion, connectivity=8)\n",
    "\n",
    "    # add bounding boxes around objects and correct stats for neglected objects\n",
    "    img_with_boxes, tlabels, tstats, tcentroids = add_bounding_boxes(img, stats, labels, centroids)\n",
    "    cv.imwrite('base_model_masking/' + file.split('\\\\')[1].split('.')[0] + '_boxes.tif', img_with_boxes)\n",
    "\n",
    "    # add enclosing ellipses\n",
    "    img_with_ellipses, axes_lengths, area = find_enclosing_ellipses(img, tlabels)\n",
    "    a.append(area)\n",
    "    cv.imwrite('base_model_masking/' + file.split('\\\\')[1].split('.')[0] + '_ellipses.tif', img_with_ellipses)\n",
    "\n",
    "    # # scatterplot of (ma, MA) \n",
    "    # plt.plot([0,500], [0,500])\n",
    "    # plt.scatter(axes_lengths[:,0], axes_lengths[:,1])\n",
    "    # plt.xlabel('minor axis length')\n",
    "    # plt.ylabel('major axis length')\n",
    "    # plt.title(file.split('\\\\')[1].split('.')[0])\n",
    "    # plt.show()\n",
    "\n",
    "    # images = [img, gray, thresh, erosion, img_with_boxes, img_with_ellipses]\n",
    "    # labels = ['img', 'gray', 'thresh', 'erosion', 'img_with_boxes', 'img_with_ellipses']\n",
    "    # visualize_napari(images, labels)\n",
    "    \n",
    "    "
   ]
  },
  {
   "cell_type": "code",
   "execution_count": 113,
   "metadata": {},
   "outputs": [],
   "source": [
    "# path to folder containing images\n",
    "path = 'base_model_pictures'\n",
    "\n",
    "# list of all filenames in folder\n",
    "filenames = os.listdir(path)\n",
    "\n",
    "kernel1 = cv.getStructuringElement(cv.MORPH_RECT, (2,2))\n",
    "kernel2 = cv.getStructuringElement(cv.MORPH_ELLIPSE, (3,3))\n",
    "\n",
    "viewer = napari.Viewer()\n",
    "\n",
    "# iterate through all filenames\n",
    "for filename in filenames:\n",
    "    # path to image\n",
    "    file = os.path.join(path, filename)\n",
    "\n",
    "    # read image\n",
    "    img = cv.imread(file)\n",
    "    # viewer.add_image(img, name=file.split('\\\\')[1].split('.')[0])\n",
    "\n",
    "    # convert image to grayscale\n",
    "    gray = cv.cvtColor(img, cv.COLOR_BGR2GRAY)\n",
    "    # viewer.add_image(gray, name=file.split('\\\\')[1].split('.')[0] + '_gray')\n",
    "\n",
    "    # binarize image applying global thresholding\n",
    "    blur = cv.GaussianBlur(gray,(5,5),0)\n",
    "    _, thresh = cv.threshold(gray, 0, 255, cv.THRESH_BINARY_INV+cv.THRESH_OTSU)\n",
    "    viewer.add_image(thresh, name=file.split('\\\\')[1].split('.')[0] + '_thresh')\n",
    "\n",
    "    # opening = cv.morphologyEx(thresh, cv.MORPH_OPEN, kernel1)\n",
    "    closing = cv.morphologyEx(thresh, cv.MORPH_CLOSE, kernel1)\n",
    "\n",
    "    # detach objects using morphological operations\n",
    "    erosion = cv.erode(thresh, kernel2, iterations = 7)\n",
    "    viewer.add_image(erosion, name=file.split('\\\\')[1].split('.')[0] + '_erosion')"
   ]
  },
  {
   "cell_type": "code",
   "execution_count": 81,
   "metadata": {},
   "outputs": [
    {
     "data": {
      "text/plain": [
       "array([[0, 1, 0],\n",
       "       [1, 1, 1],\n",
       "       [0, 1, 0]], dtype=uint8)"
      ]
     },
     "execution_count": 81,
     "metadata": {},
     "output_type": "execute_result"
    }
   ],
   "source": [
    "kernel = cv.getStructuringElement(cv.MORPH_ELLIPSE, (3,3))\n",
    "kernel"
   ]
  },
  {
   "cell_type": "code",
   "execution_count": 31,
   "metadata": {},
   "outputs": [
    {
     "data": {
      "text/plain": [
       "(1944, 2592, 3)"
      ]
     },
     "execution_count": 31,
     "metadata": {},
     "output_type": "execute_result"
    }
   ],
   "source": [
    "img.shape"
   ]
  },
  {
   "cell_type": "code",
   "execution_count": 44,
   "metadata": {},
   "outputs": [
    {
     "data": {
      "text/plain": [
       "True"
      ]
     },
     "execution_count": 44,
     "metadata": {},
     "output_type": "execute_result"
    }
   ],
   "source": [
    "name = filenames[0]\n",
    "name.split('.')[0][-2:] == 'nn'"
   ]
  },
  {
   "cell_type": "code",
   "execution_count": 115,
   "metadata": {},
   "outputs": [],
   "source": [
    "# divide a into three lists depending on suffix yy, yn or nn\n",
    "a_yy = []\n",
    "a_yn = []\n",
    "a_nn = []\n",
    "\n",
    "for i in range(len(a)):\n",
    "    if filenames[i].split('.')[0][-2:] == 'yy':\n",
    "        a_yy.append(a[i])\n",
    "    elif filenames[i].split('.')[0][-2:] == 'yn':\n",
    "        a_yn.append(a[i])\n",
    "    else:\n",
    "        a_nn.append(a[i])\n"
   ]
  },
  {
   "cell_type": "code",
   "execution_count": 116,
   "metadata": {},
   "outputs": [
    {
     "data": {
      "image/png": "[encoded data removed]",
      "text/plain": [
       "<Figure size 1500x500 with 3 Axes>"
      ]
     },
     "metadata": {},
     "output_type": "display_data"
    }
   ],
   "source": [
    "# plot histograms of a_yy, a_yn and a_nn in separate subplots\n",
    "# increase figure size \n",
    "plt.rcParams['figure.figsize'] = [15, 5]\n",
    "fig, axs = plt.subplots(1, 3, sharey=True)\n",
    "axs[0].hist(a_yy)\n",
    "axs[0].set_title('yy')\n",
    "axs[1].hist(a_yn)\n",
    "axs[1].set_title('yn')\n",
    "axs[2].hist(a_nn)\n",
    "axs[2].set_title('nn')\n",
    "plt.show()"
   ]
  },
  {
   "cell_type": "code",
   "execution_count": 117,
   "metadata": {},
   "outputs": [
    {
     "name": "stdout",
     "output_type": "stream",
     "text": [
      "97132.26338261827\n",
      "78112.89846406733\n",
      "72821.32677416138\n",
      "55046.132019448574\n",
      "78613.70929490175\n",
      "45987.93728480444\n",
      "35401.66258822848\n",
      "52611.31518030399\n",
      "37609.9439408485\n",
      "63113.121306768546\n",
      "63432.64448225507\n",
      "73413.69105140073\n",
      "80853.74390963007\n",
      "44799.22300191202\n",
      "52602.940116862286\n",
      "65717.80890374248\n",
      "67705.56058103211\n",
      "86400.58838702561\n",
      "112701.40628044825\n",
      "113115.45421618246\n",
      "118815.51825104923\n",
      "67788.03108614146\n",
      "83479.35719808156\n",
      "79930.70747317497\n",
      "76159.52394809734\n"
     ]
    }
   ],
   "source": [
    "for item in a:\n",
    "    print(max(item))"
   ]
  },
  {
   "cell_type": "code",
   "execution_count": null,
   "metadata": {},
   "outputs": [],
   "source": [
    "paths = ['DE_annotated_pictures/20220918_809 D4001_ch00_yy.tif',\n",
    "         'DE_annotated_pictures/20220918_811 D4001_ch00_yn.tif',\n",
    "         'DE_annotated_pictures/20220130_543_D4001_ch00_nn.tif']\n",
    "\n",
    "kernel = cv.getStructuringElement(cv.MORPH_ELLIPSE, (4,4))\n",
    "\n",
    "# data = np.empty(shape=[0, 2])\n",
    "colors = ['red', 'green', 'blue']\n",
    "a = []\n",
    "\n",
    "for idx, path in enumerate(paths):\n",
    "    # read image\n",
    "    img = cv.imread(path)\n",
    "\n",
    "    # convert image to grayscale\n",
    "    gray = cv.cvtColor(img, cv.COLOR_BGR2GRAY)\n",
    "    # cv.imwrite(path.split('/')[1].split('.')[0] + '_gray.tif', gray)\n",
    "\n",
    "    # binarize image applying global thresholding\n",
    "    _, thresh = cv.threshold(gray, np.mean(gray), 255, cv.THRESH_BINARY_INV)\n",
    "\n",
    "    # erode boundary to detach objects\n",
    "    erosion = cv.erode(thresh, kernel, iterations = 5)\n",
    "    # cv.imwrite(path.split('/')[1].split('.')[0] + '_erosion.tif',erosion)\n",
    "\n",
    "    # compute connected components and corresponding stats\n",
    "    num_labels, labels, stats, centroids = cv.connectedComponentsWithStats(erosion, connectivity=8)\n",
    "\n",
    "    # add bounding boxes around objects and correct stats for neglected objects\n",
    "    img_with_boxes, tlabels, tstats, tcentroids = add_bounding_boxes(img, stats, labels, centroids)\n",
    "    # cv.imwrite(path.split('/')[1].split('.')[0] + '_boxes.tif', img_with_boxes)\n",
    "\n",
    "    # add enclosing ellipses\n",
    "    img_with_ellipses, axes_lengths, area = find_enclosing_ellipses(img, tlabels)\n",
    "    a.append(area)\n",
    "    # cv.imwrite(path.split('/')[1].split('.')[0] + '_ellipses.tif', img_with_ellipses)\n",
    "\n",
    "    # scatterplot of (ma, MA) \n",
    "    plt.plot([0,430], [0,430])\n",
    "    plt.scatter(axes_lengths[:,0], axes_lengths[:,1])\n",
    "    plt.xlim((150,430))\n",
    "    plt.ylim((150,430))\n",
    "    plt.xlabel('minor axis length')\n",
    "    plt.ylabel('major axis length')\n",
    "    plt.title(path.split('/')[1].split('.')[0])\n",
    "    plt.show()\n",
    "\n",
    "    images = [img, gray, thresh, erosion, img_with_boxes, img_with_ellipses]\n",
    "    labels = ['img', 'gray', 'thresh', 'erosion', 'img_with_boxes', 'img_with_ellipses']\n",
    "    # visualize_napari(images, labels)"
   ]
  },
  {
   "cell_type": "code",
   "execution_count": 3,
   "metadata": {},
   "outputs": [],
   "source": [
    "# img = cv.imread('DE_annotated_pictures/20220202_547 D4 001_ch00_yn.tif')\n",
    "img = cv.imread('DE_annotated_pictures/20220918_812 100ml D4001_ch00_yn.tif')\n",
    "# viewer = napari.Viewer()\n",
    "# viewer.add_image(img, rgb=True)"
   ]
  },
  {
   "cell_type": "code",
   "execution_count": 223,
   "metadata": {},
   "outputs": [
    {
     "name": "stdout",
     "output_type": "stream",
     "text": [
      "(1944, 2592, 3) (1944, 2592, 3)\n"
     ]
    },
    {
     "data": {
      "text/plain": [
       "<Image layer 'img2' at 0x2ed6440d0c0>"
      ]
     },
     "execution_count": 223,
     "metadata": {},
     "output_type": "execute_result"
    }
   ],
   "source": [
    "img1 = cv.imread('DE_annotated_pictures/20220528_703 D4 001_ch00_yn.tif')\n",
    "img2 = cv.imread('DE_annotated_pictures/20220918_811 D4001_ch00_yn.tif')\n",
    "print(img1.shape, img2.shape)\n",
    "viewer = napari.Viewer()\n",
    "viewer.add_image(img1)\n",
    "viewer.add_image(img2)"
   ]
  },
  {
   "cell_type": "code",
   "execution_count": 4,
   "metadata": {},
   "outputs": [],
   "source": [
    "gray_img = cv.cvtColor(img, cv.COLOR_BGR2GRAY)\n",
    "# viewer.add_image(gray_img)"
   ]
  },
  {
   "cell_type": "code",
   "execution_count": 34,
   "metadata": {},
   "outputs": [],
   "source": [
    "low = np.array([0, 0, 0])\n",
    "high = np.array([200, 180, 105])\n",
    "mask_inRange = cv.inRange(img, low, high)\n",
    "masked_img = cv.bitwise_and(img, img, mask=mask_inRange)\n",
    "# viewer.add_image(mask_inRange)"
   ]
  },
  {
   "cell_type": "code",
   "execution_count": 24,
   "metadata": {},
   "outputs": [],
   "source": [
    "twoDimage = img.reshape((-1,3))\n",
    "twoDimage = np.float32(twoDimage)"
   ]
  },
  {
   "cell_type": "code",
   "execution_count": 25,
   "metadata": {},
   "outputs": [],
   "source": [
    "criteria = (cv.TERM_CRITERIA_EPS + cv.TERM_CRITERIA_MAX_ITER, 10, 1.0)\n",
    "attempts = 10\n",
    "\n",
    "ret1, label1, center1 = cv.kmeans(twoDimage, 2, None, criteria, attempts, cv.KMEANS_PP_CENTERS)\n",
    "ret2, label2, center2 = cv.kmeans(twoDimage, 3, None, criteria, attempts, cv.KMEANS_PP_CENTERS)\n",
    "ret3, label3, center3 = cv.kmeans(twoDimage, 4, None, criteria, attempts, cv.KMEANS_PP_CENTERS)\n",
    "\n",
    "center1 = np.uint8(center1)\n",
    "res1 = center1[label1.flatten()]\n",
    "mask_2nn = res1.reshape((img.shape))\n",
    "\n",
    "center2 = np.uint8(center2)\n",
    "res2 = center2[label2.flatten()]\n",
    "mask_3nn = res2.reshape((img.shape))\n",
    "\n",
    "center3 = np.uint8(center3)\n",
    "res3 = center3[label3.flatten()]\n",
    "mask_4nn = res3.reshape((img.shape))\n",
    "\n",
    "# viewer.add_image(mask_2nn)\n",
    "# viewer.add_image(mask_3nn)\n",
    "# viewer.add_image(mask_4nn)"
   ]
  },
  {
   "cell_type": "code",
   "execution_count": 5,
   "metadata": {},
   "outputs": [],
   "source": [
    "_, thresh = cv.threshold(gray_img, np.mean(gray_img), 255, cv.THRESH_BINARY_INV)\n",
    "edges = cv.dilate(cv.Canny(thresh, 0, 255), None)"
   ]
  },
  {
   "cell_type": "code",
   "execution_count": 6,
   "metadata": {},
   "outputs": [],
   "source": [
    "kernel1 = cv.getStructuringElement(cv.MORPH_RECT, (3,3))\n",
    "kernel2 = cv.getStructuringElement(cv.MORPH_ELLIPSE, (4,4))\n",
    "\n",
    "erosion = cv.erode(thresh, kernel2, iterations = 5)\n",
    "opening = cv.morphologyEx(thresh, cv.MORPH_OPEN, kernel2)\n",
    "closing = cv.morphologyEx(thresh, cv.MORPH_CLOSE, kernel2)\n",
    "dilation = cv.dilate(thresh, kernel2, iterations = 1)"
   ]
  },
  {
   "cell_type": "code",
   "execution_count": 248,
   "metadata": {},
   "outputs": [
    {
     "data": {
      "text/plain": [
       "<Image layer 'erosion' at 0x2ed4b8dbfa0>"
      ]
     },
     "execution_count": 248,
     "metadata": {},
     "output_type": "execute_result"
    }
   ],
   "source": [
    "viewer = napari.Viewer()\n",
    "viewer.add_image(img)\n",
    "viewer.add_image(thresh)\n",
    "viewer.add_image(erosion)\n",
    "# viewer.add_image(opening) \n",
    "# viewer.add_image(closing)\n",
    "# viewer.add_image(dilation)"
   ]
  },
  {
   "cell_type": "code",
   "execution_count": 131,
   "metadata": {},
   "outputs": [],
   "source": [
    "thresh_adpt_m = cv.adaptiveThreshold(gray_img, 255, cv.ADAPTIVE_THRESH_MEAN_C, cv.THRESH_BINARY, 25, 10)\n",
    "thresh_adpt_g = cv.adaptiveThreshold(gray_img, 255, cv.ADAPTIVE_THRESH_GAUSSIAN_C, cv.THRESH_BINARY, 11, -10)\n",
    "dilation = cv.dilate(thresh_adpt_m, kernel1, iterations = 1)\n",
    "opening = cv.morphologyEx(thresh_adpt_m, cv.MORPH_OPEN, kernel1)"
   ]
  },
  {
   "cell_type": "code",
   "execution_count": 148,
   "metadata": {},
   "outputs": [
    {
     "data": {
      "text/plain": [
       "<Image layer 'img' at 0x2ed34103bb0>"
      ]
     },
     "execution_count": 148,
     "metadata": {},
     "output_type": "execute_result"
    }
   ],
   "source": [
    "viewer = napari.Viewer()\n",
    "viewer.add_image(thresh_adpt_m)\n",
    "viewer.add_image(dilation)\n",
    "viewer.add_image(opening)\n",
    "viewer.add_image(img)"
   ]
  },
  {
   "cell_type": "code",
   "execution_count": 39,
   "metadata": {},
   "outputs": [],
   "source": [
    "from skimage.filters import threshold_otsu\n",
    "\n",
    "th_otsu = threshold_otsu(gray_img)\n",
    "thresh_otsu  = gray_img < th_otsu\n",
    "\n",
    "# viewer.add_image(img_otsu)"
   ]
  },
  {
   "cell_type": "code",
   "execution_count": 44,
   "metadata": {},
   "outputs": [
    {
     "name": "stdout",
     "output_type": "stream",
     "text": [
      "10 10\n"
     ]
    }
   ],
   "source": [
    "imgs = [img, gray_img, mask_inRange, thresh, opening, closing, dilation, thresh_adpt_m, thresh_adpt_g, thresh_otsu]\n",
    "labels = ['original', 'grayscale', 'color masking', 'global thresholding', \n",
    "          'opening', 'opened and closed', 'opened and dilated',\n",
    "          'adaptive mean thresholding', 'adpative gaussian thresholding', 'otsu thresholding']\n",
    "print(len(imgs), len(labels))\n",
    "visualize_napari(imgs, labels)"
   ]
  },
  {
   "cell_type": "code",
   "execution_count": 7,
   "metadata": {},
   "outputs": [],
   "source": [
    "num_labels, labels, stats, centroids = cv.connectedComponentsWithStats(erosion, connectivity=8)"
   ]
  },
  {
   "cell_type": "code",
   "execution_count": 251,
   "metadata": {},
   "outputs": [],
   "source": [
    "tlabels, tstats, tcentroids = clean_stats(labels, stats, centroids)"
   ]
  },
  {
   "cell_type": "code",
   "execution_count": 252,
   "metadata": {},
   "outputs": [
    {
     "data": {
      "text/plain": [
       "(57, 5)"
      ]
     },
     "execution_count": 252,
     "metadata": {},
     "output_type": "execute_result"
    }
   ],
   "source": [
    "tstats.shape"
   ]
  },
  {
   "cell_type": "code",
   "execution_count": 19,
   "metadata": {},
   "outputs": [
    {
     "data": {
      "text/plain": [
       "(1944, 2592, 3)"
      ]
     },
     "execution_count": 19,
     "metadata": {},
     "output_type": "execute_result"
    }
   ],
   "source": [
    "img.shape"
   ]
  },
  {
   "cell_type": "code",
   "execution_count": 21,
   "metadata": {},
   "outputs": [],
   "source": [
    "img_with_boxes, tlabels, tstats, tcentroids = add_bounding_boxes(img, stats, labels, centroids)"
   ]
  },
  {
   "cell_type": "code",
   "execution_count": 22,
   "metadata": {},
   "outputs": [
    {
     "data": {
      "text/plain": [
       "<Image layer 'erosion' at 0x20ef021ca60>"
      ]
     },
     "execution_count": 22,
     "metadata": {},
     "output_type": "execute_result"
    }
   ],
   "source": [
    "viewer = napari.Viewer()\n",
    "viewer.add_image(img_with_boxes)\n",
    "viewer.add_image(erosion)"
   ]
  },
  {
   "cell_type": "code",
   "execution_count": 312,
   "metadata": {},
   "outputs": [
    {
     "data": {
      "text/plain": [
       "<Image layer 'img_with_ellipses' at 0x2ec8f380910>"
      ]
     },
     "execution_count": 312,
     "metadata": {},
     "output_type": "execute_result"
    }
   ],
   "source": [
    "img_with_ellipses = find_enclosing_ellipses(img, tlabels)\n",
    "viewer.add_image(img_with_ellipses)"
   ]
  }
 ],
 "metadata": {
  "kernelspec": {
   "display_name": ".venv",
   "language": "python",
   "name": "python3"
  },
  "language_info": {
   "codemirror_mode": {
    "name": "ipython",
    "version": 3
   },
   "file_extension": ".py",
   "mimetype": "text/x-python",
   "name": "python",
   "nbconvert_exporter": "python",
   "pygments_lexer": "ipython3",
   "version": "3.10.2"
  },
  "orig_nbformat": 4
 },
 "nbformat": 4,
 "nbformat_minor": 2
}
